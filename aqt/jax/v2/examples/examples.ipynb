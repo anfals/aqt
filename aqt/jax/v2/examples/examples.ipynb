{
  "cells": [
    {
      "cell_type": "code",
      "execution_count": null,
      "metadata": {
        "id": "d0o0SRAQF3Ub"
      },
      "outputs": [],
      "source": [
        "# install the AQT library\n",
        "!pip install aqtp\n",
        "# necessary imports\n",
        "import aqt.jax.v2.aqt_dot_general as aqt\n",
        "import aqt.jax.v2.config as aqt_config\n",
        "\n",
        "# create a config that quantizes both forward and backward passes to int8\n",
        "int8_config = aqt_config.fully_quantized(fwd_bits=8, bwd_bits=8)"
      ]
    },
    {
      "cell_type": "code",
      "execution_count": null,
      "metadata": {
        "id": "fh3igA7UHU1K"
      },
      "outputs": [],
      "source": [
        "class MlpBlock(nn.Module):\n",
        "  config: aqt_config.DotGeneral | None\n",
        "\n",
        "  @nn.compact\n",
        "  def __call__(self, inputs):\n",
        "    dot_general = aqt.make_dot_general(self.config)\n",
        "    x = nn.Dense(dot_general=dot_general, features=inputs.shape[-1] * 4)(inputs)\n",
        "    x = nn.relu(x)\n",
        "    x = nn.Dense(dot_general=dot_general, features=inputs.shape[-1])(x)\n",
        "    return x"
      ]
    },
    {
      "cell_type": "code",
      "execution_count": null,
      "metadata": {
        "id": "R-athz_HHkVC"
      },
      "outputs": [],
      "source": [
        "import jax\n",
        "import jax.numpy as jnp\n",
        "import numpy as np\n",
        "\n",
        "# Generate some random matrices as inputs\n",
        "def gen_matrix(rows, columns, seed=0):\n",
        "  np.random.seed(seed)\n",
        "  return np.random.normal(size=(rows, columns)).reshape((rows, columns))\n",
        "\n",
        "inputs = gen_matrix(3, 4)\n",
        "\n",
        "# test function that initializes the model and compute the forward pass\n",
        "def init_and_eval(name, mlp_block, init_seed=0):\n",
        "  model = mlp_block.init(jax.random.PRNGKey(init_seed), inputs)\n",
        "  out = mlp_block.apply(model, inputs)\n",
        "  print(f\"{name}:\\n\", out)\n",
        "\n",
        "# run and print results\n",
        "mlp_fp16 = MlpBlock(config=None)\n",
        "mlp_int8 = MlpBlock(config=int8_config)\n",
        "init_and_eval('mlp_fp16', mlp_fp16)\n",
        "init_and_eval('mlp_int8', mlp_int8)"
      ]
    }
  ],
  "metadata": {
    "colab": {
      "private_outputs": true,
      "provenance": [
        {
          "file_id": "1AF_HtCk-VhTBUQ1JdeIY0NeXAWjdICMf",
          "timestamp": 1698963395477
        }
      ]
    },
    "kernelspec": {
      "display_name": "Python 3",
      "name": "python3"
    },
    "language_info": {
      "name": "python"
    }
  },
  "nbformat": 4,
  "nbformat_minor": 0
}
